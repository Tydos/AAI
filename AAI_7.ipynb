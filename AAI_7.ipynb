{
  "nbformat": 4,
  "nbformat_minor": 0,
  "metadata": {
    "colab": {
      "provenance": [],
      "gpuType": "T4"
    },
    "kernelspec": {
      "name": "python3",
      "display_name": "Python 3"
    },
    "language_info": {
      "name": "python"
    },
    "accelerator": "GPU"
  },
  "cells": [
    {
      "cell_type": "markdown",
      "source": [
        "# Name: Prasad Jawale\n",
        "Class: D16AD         Roll: 20\n",
        "\n",
        "AAI Lab 7 - VAE on Fashion Mnist"
      ],
      "metadata": {
        "id": "DGnmGdM0ndWU"
      }
    },
    {
      "cell_type": "markdown",
      "source": [
        "\n",
        "\n",
        "---\n",
        "\n",
        "\n",
        "**Loading Dataset**"
      ],
      "metadata": {
        "id": "Bm85FMgNoX4H"
      }
    },
    {
      "cell_type": "code",
      "source": [
        "import numpy as np\n",
        "import matplotlib.pyplot as plt\n",
        "\n",
        "import tensorflow as tf\n",
        "from tensorflow import keras\n",
        "import keras.backend as K\n",
        "from tensorflow.keras.layers import Input, Flatten, Dense, Lambda, Reshape, Conv2D, Conv2DTranspose"
      ],
      "metadata": {
        "id": "cOBZ-11Gn6qm"
      },
      "execution_count": null,
      "outputs": []
    },
    {
      "cell_type": "code",
      "source": [
        "(X_train, y_train), (X_test, y_test) = keras.datasets.fashion_mnist.load_data()\n",
        "\n",
        "print(X_train.shape, y_train.shape)\n",
        "print(X_test.shape, y_test.shape)"
      ],
      "metadata": {
        "colab": {
          "base_uri": "https://localhost:8080/"
        },
        "id": "IUHjMAAEoTZh",
        "outputId": "de88ffd6-e397-4991-c577-3821aa5da6a1"
      },
      "execution_count": null,
      "outputs": [
        {
          "output_type": "stream",
          "name": "stdout",
          "text": [
            "(60000, 28, 28) (60000,)\n",
            "(10000, 28, 28) (10000,)\n"
          ]
        }
      ]
    },
    {
      "cell_type": "code",
      "source": [
        "X_train = X_train.astype('float32') / 255\n",
        "X_test = X_test.astype('float32') / 255"
      ],
      "metadata": {
        "id": "LG7-h4cMoWGm"
      },
      "execution_count": null,
      "outputs": []
    },
    {
      "cell_type": "code",
      "source": [
        "X_train = X_train.reshape((-1,28,28,1))\n",
        "X_test = X_test.reshape((-1,28,28,1))"
      ],
      "metadata": {
        "id": "gzWsSBl9og1s"
      },
      "execution_count": null,
      "outputs": []
    },
    {
      "cell_type": "code",
      "source": [
        "plt.figure(1)\n",
        "plt.subplot(221)\n",
        "plt.imshow(X_train[41][:,:,0])\n",
        "\n",
        "plt.subplot(222)\n",
        "plt.imshow(X_train[542][:,:,0])\n",
        "\n",
        "plt.subplot(223)\n",
        "plt.imshow(X_train[4363][:,:,0])\n",
        "\n",
        "plt.subplot(224)\n",
        "plt.imshow(X_train[8224][:,:,0])\n",
        "plt.show()"
      ],
      "metadata": {
        "colab": {
          "base_uri": "https://localhost:8080/",
          "height": 432
        },
        "id": "j57F1NYWoiz-",
        "outputId": "76149acb-d780-4d9c-8b4a-4d8cfcf24630"
      },
      "execution_count": null,
      "outputs": [
        {
          "output_type": "display_data",
          "data": {
            "text/plain": [
              "<Figure size 640x480 with 4 Axes>"
            ],
            "image/png": "[encoded data removed]"
          },
          "metadata": {}
        }
      ]
    },
    {
      "cell_type": "markdown",
      "source": [
        "**Encoder Architecture**"
      ],
      "metadata": {
        "id": "xX2LbwLMosll"
      }
    },
    {
      "cell_type": "code",
      "source": [
        "enc_input = Input(shape=(28,28,1), name='encoder input')\n",
        "x = Conv2D(128, 5, padding='same', activation='relu')(enc_input)\n",
        "x = Conv2D(64, 3, padding='same', strides=2, activation='relu')(x)\n",
        "x = Conv2D(64, 3, padding='same', activation='relu')(x)\n",
        "x = Conv2D(64, 3, padding='same', activation='relu')(x)\n",
        "\n",
        "enc_shape = K.int_shape(x)"
      ],
      "metadata": {
        "id": "kjPXqltlolU_"
      },
      "execution_count": null,
      "outputs": []
    },
    {
      "cell_type": "code",
      "source": [
        "x = Flatten()(x)\n",
        "x = Dense(32)(x)"
      ],
      "metadata": {
        "id": "5a3wDhMeo2cj"
      },
      "execution_count": null,
      "outputs": []
    },
    {
      "cell_type": "code",
      "source": [
        "latent_dim = 2 #2D space\n",
        "\n",
        "z_mean = Dense(latent_dim, name='Z-mean')(x)\n",
        "z_logvar = Dense(latent_dim, name='Z-logvariance')(x)"
      ],
      "metadata": {
        "id": "kRuYC4hSo321"
      },
      "execution_count": null,
      "outputs": []
    },
    {
      "cell_type": "code",
      "source": [
        "def sampling(args):\n",
        "  mean, logvar = args\n",
        "  eps = K.random_normal([latent_dim])\n",
        "  rnd_sam = mean + K.exp(logvar/2) * eps\n",
        "  return rnd_sam"
      ],
      "metadata": {
        "id": "crfB1qGco6Mh"
      },
      "execution_count": null,
      "outputs": []
    },
    {
      "cell_type": "code",
      "source": [
        "z = Lambda(sampling, output_shape=latent_dim, name='latent-space')([z_mean, z_logvar])"
      ],
      "metadata": {
        "id": "IzEY9l_Bo9Xk"
      },
      "execution_count": null,
      "outputs": []
    },
    {
      "cell_type": "code",
      "source": [
        "encoder = keras.Model(enc_input, z, name='encoder')\n",
        "encoder.summary()"
      ],
      "metadata": {
        "colab": {
          "base_uri": "https://localhost:8080/"
        },
        "id": "-_xAVRyZo_Fi",
        "outputId": "8d7d7ce4-1d6a-40b7-ebbf-325591ecb866"
      },
      "execution_count": null,
      "outputs": [
        {
          "output_type": "stream",
          "name": "stdout",
          "text": [
            "Model: \"encoder\"\n",
            "__________________________________________________________________________________________________\n",
            " Layer (type)                Output Shape                 Param #   Connected to                  \n",
            "==================================================================================================\n",
            " encoder input (InputLayer)  [(None, 28, 28, 1)]          0         []                            \n",
            "                                                                                                  \n",
            " conv2d_4 (Conv2D)           (None, 28, 28, 128)          3328      ['encoder input[0][0]']       \n",
            "                                                                                                  \n",
            " conv2d_5 (Conv2D)           (None, 14, 14, 64)           73792     ['conv2d_4[0][0]']            \n",
            "                                                                                                  \n",
            " conv2d_6 (Conv2D)           (None, 14, 14, 64)           36928     ['conv2d_5[0][0]']            \n",
            "                                                                                                  \n",
            " conv2d_7 (Conv2D)           (None, 14, 14, 64)           36928     ['conv2d_6[0][0]']            \n",
            "                                                                                                  \n",
            " flatten_1 (Flatten)         (None, 12544)                0         ['conv2d_7[0][0]']            \n",
            "                                                                                                  \n",
            " dense_2 (Dense)             (None, 32)                   401440    ['flatten_1[0][0]']           \n",
            "                                                                                                  \n",
            " Z-mean (Dense)              (None, 2)                    66        ['dense_2[0][0]']             \n",
            "                                                                                                  \n",
            " Z-logvariance (Dense)       (None, 2)                    66        ['dense_2[0][0]']             \n",
            "                                                                                                  \n",
            " latent-space (Lambda)       (None, 2)                    0         ['Z-mean[0][0]',              \n",
            "                                                                     'Z-logvariance[0][0]']       \n",
            "                                                                                                  \n",
            "==================================================================================================\n",
            "Total params: 552548 (2.11 MB)\n",
            "Trainable params: 552548 (2.11 MB)\n",
            "Non-trainable params: 0 (0.00 Byte)\n",
            "__________________________________________________________________________________________________\n"
          ]
        }
      ]
    },
    {
      "cell_type": "markdown",
      "source": [
        "**Decoder Architecture**"
      ],
      "metadata": {
        "id": "pyq0DXrGpHZp"
      }
    },
    {
      "cell_type": "code",
      "source": [
        "dec_input = Input(shape=(latent_dim,), name='decoder-input')\n",
        "\n",
        "true_shape = enc_shape[1:]\n",
        "\n",
        "y = Dense(np.prod(true_shape))(dec_input)\n",
        "y = Reshape(target_shape=true_shape)(y)\n",
        "y = Conv2DTranspose(64, 3, padding='same', activation='relu')(y)\n",
        "y = Conv2DTranspose(64, 3, padding='same', activation='relu')(y)\n",
        "y = Conv2DTranspose(64, 3, strides=2, padding='same', activation='relu')(y)\n",
        "y = Conv2DTranspose(128, 5, padding='same', activation='relu')(y)\n",
        "y = Conv2DTranspose(1, 5, padding='same', activation='relu')(y)"
      ],
      "metadata": {
        "id": "TAcoUl0spB-M"
      },
      "execution_count": null,
      "outputs": []
    },
    {
      "cell_type": "code",
      "source": [
        "decoder = keras.Model(dec_input, y, name='decoder')\n",
        "decoder.summary()"
      ],
      "metadata": {
        "colab": {
          "base_uri": "https://localhost:8080/"
        },
        "id": "zKOaQ2T7pL6F",
        "outputId": "daf1a8ca-2a60-456d-8de1-eac60be172e0"
      },
      "execution_count": null,
      "outputs": [
        {
          "output_type": "stream",
          "name": "stdout",
          "text": [
            "Model: \"decoder\"\n",
            "_________________________________________________________________\n",
            " Layer (type)                Output Shape              Param #   \n",
            "=================================================================\n",
            " decoder-input (InputLayer)  [(None, 2)]               0         \n",
            "                                                                 \n",
            " dense_3 (Dense)             (None, 12544)             37632     \n",
            "                                                                 \n",
            " reshape_1 (Reshape)         (None, 14, 14, 64)        0         \n",
            "                                                                 \n",
            " conv2d_transpose_5 (Conv2D  (None, 14, 14, 64)        36928     \n",
            " Transpose)                                                      \n",
            "                                                                 \n",
            " conv2d_transpose_6 (Conv2D  (None, 14, 14, 64)        36928     \n",
            " Transpose)                                                      \n",
            "                                                                 \n",
            " conv2d_transpose_7 (Conv2D  (None, 28, 28, 64)        36928     \n",
            " Transpose)                                                      \n",
            "                                                                 \n",
            " conv2d_transpose_8 (Conv2D  (None, 28, 28, 128)       204928    \n",
            " Transpose)                                                      \n",
            "                                                                 \n",
            " conv2d_transpose_9 (Conv2D  (None, 28, 28, 1)         3201      \n",
            " Transpose)                                                      \n",
            "                                                                 \n",
            "=================================================================\n",
            "Total params: 356545 (1.36 MB)\n",
            "Trainable params: 356545 (1.36 MB)\n",
            "Non-trainable params: 0 (0.00 Byte)\n",
            "_________________________________________________________________\n"
          ]
        }
      ]
    },
    {
      "cell_type": "markdown",
      "source": [
        "**Model Training**"
      ],
      "metadata": {
        "id": "YUP7ny7GpQr_"
      }
    },
    {
      "cell_type": "code",
      "source": [
        "enc_output = encoder(enc_input)\n",
        "dec_output = decoder(enc_output)\n",
        "\n",
        "vae = keras.Model(enc_input, dec_output, name='VAE')\n",
        "vae.summary()"
      ],
      "metadata": {
        "colab": {
          "base_uri": "https://localhost:8080/"
        },
        "id": "iIQnfwVZpNfS",
        "outputId": "e4354e0b-dae9-4f8a-8782-0db0edbebc7d"
      },
      "execution_count": null,
      "outputs": [
        {
          "output_type": "stream",
          "name": "stdout",
          "text": [
            "Model: \"VAE\"\n",
            "_________________________________________________________________\n",
            " Layer (type)                Output Shape              Param #   \n",
            "=================================================================\n",
            " encoder input (InputLayer)  [(None, 28, 28, 1)]       0         \n",
            "                                                                 \n",
            " encoder (Functional)        (None, 2)                 552548    \n",
            "                                                                 \n",
            " decoder (Functional)        (None, 28, 28, 1)         356545    \n",
            "                                                                 \n",
            "=================================================================\n",
            "Total params: 909093 (3.47 MB)\n",
            "Trainable params: 909093 (3.47 MB)\n",
            "Non-trainable params: 0 (0.00 Byte)\n",
            "_________________________________________________________________\n"
          ]
        }
      ]
    },
    {
      "cell_type": "code",
      "source": [
        "def loss_func(z_mean, z_logvar):\n",
        "\n",
        "    def vae_reconstruction_loss(y_true, y_predict):\n",
        "        reconstruction_loss_factor = 100\n",
        "        reconstruction_loss = K.mean(K.square(y_true-y_predict), axis=[1, 2, 3])\n",
        "        return reconstruction_loss_factor * reconstruction_loss\n",
        "\n",
        "    def vae_kl_loss(z_mean, z_logvar):\n",
        "        kl_loss = -0.5 * K.sum(1.0 + z_logvar - K.square(z_mean) - K.exp(z_logvar), axis=1)\n",
        "        return kl_loss\n",
        "\n",
        "    def vae_kl_loss_metric(y_true, y_predict):\n",
        "        kl_loss = -0.5 * K.sum(1.0 + z_logvar - K.square(z_mean) - K.exp(z_logvar), axis=1)\n",
        "        return kl_loss\n",
        "\n",
        "    def vae_loss(y_true, y_predict):\n",
        "        reconstruction_loss = vae_reconstruction_loss(y_true, y_predict)\n",
        "        kl_loss = vae_kl_loss(y_true, y_predict)\n",
        "\n",
        "        loss = reconstruction_loss + kl_loss\n",
        "        return loss\n",
        "\n",
        "    return vae_loss"
      ],
      "metadata": {
        "id": "gepPlHQlpTgv"
      },
      "execution_count": null,
      "outputs": []
    },
    {
      "cell_type": "code",
      "source": [
        "opt = keras.optimizers.Adam(learning_rate=0.0001)\n",
        "vae.compile(optimizer=opt, loss=loss_func(z_mean, z_logvar))"
      ],
      "metadata": {
        "id": "ARLffN12pWpf"
      },
      "execution_count": null,
      "outputs": []
    },
    {
      "cell_type": "code",
      "source": [
        "history = vae.fit(X_train, X_train, epochs=20, batch_size=32, validation_data=(X_test, X_test))"
      ],
      "metadata": {
        "colab": {
          "base_uri": "https://localhost:8080/"
        },
        "id": "O67rq-JApYaK",
        "outputId": "a54f8e4f-f5bd-4398-b346-f8a0f760af41"
      },
      "execution_count": null,
      "outputs": [
        {
          "output_type": "stream",
          "name": "stdout",
          "text": [
            "Epoch 1/20\n",
            "1875/1875 [==============================] - 30s 14ms/step - loss: 8.5679 - val_loss: 7.6468\n",
            "Epoch 2/20\n",
            "1875/1875 [==============================] - 23s 12ms/step - loss: 7.5899 - val_loss: 7.5305\n",
            "Epoch 3/20\n",
            "1875/1875 [==============================] - 24s 13ms/step - loss: 7.4876 - val_loss: 7.4382\n",
            "Epoch 4/20\n",
            "1875/1875 [==============================] - 23s 13ms/step - loss: 7.4090 - val_loss: 7.3811\n",
            "Epoch 5/20\n",
            "1875/1875 [==============================] - 24s 13ms/step - loss: 7.3550 - val_loss: 7.3205\n",
            "Epoch 6/20\n",
            "1875/1875 [==============================] - 23s 12ms/step - loss: 7.3096 - val_loss: 7.2773\n",
            "Epoch 7/20\n",
            "1875/1875 [==============================] - 24s 13ms/step - loss: 7.2751 - val_loss: 7.2346\n",
            "Epoch 8/20\n",
            "1875/1875 [==============================] - 24s 13ms/step - loss: 7.2423 - val_loss: 7.2205\n",
            "Epoch 9/20\n",
            "1875/1875 [==============================] - 22s 12ms/step - loss: 7.2107 - val_loss: 7.1897\n",
            "Epoch 10/20\n",
            "1875/1875 [==============================] - 23s 12ms/step - loss: 7.1932 - val_loss: 7.1768\n",
            "Epoch 11/20\n",
            "1875/1875 [==============================] - 23s 12ms/step - loss: 7.1717 - val_loss: 7.1693\n",
            "Epoch 12/20\n",
            "1875/1875 [==============================] - 22s 12ms/step - loss: 7.1534 - val_loss: 7.1487\n",
            "Epoch 13/20\n",
            "1875/1875 [==============================] - 22s 12ms/step - loss: 7.1337 - val_loss: 7.1274\n",
            "Epoch 14/20\n",
            "1875/1875 [==============================] - 23s 12ms/step - loss: 7.1212 - val_loss: 7.1490\n",
            "Epoch 15/20\n",
            "1875/1875 [==============================] - 24s 13ms/step - loss: 7.1023 - val_loss: 7.1007\n",
            "Epoch 16/20\n",
            "1875/1875 [==============================] - 24s 13ms/step - loss: 7.0865 - val_loss: 7.1155\n",
            "Epoch 17/20\n",
            "1875/1875 [==============================] - 24s 13ms/step - loss: 7.0741 - val_loss: 7.0845\n",
            "Epoch 18/20\n",
            "1875/1875 [==============================] - 23s 12ms/step - loss: 7.0583 - val_loss: 7.0696\n",
            "Epoch 19/20\n",
            "1875/1875 [==============================] - 24s 13ms/step - loss: 7.0455 - val_loss: 7.0886\n",
            "Epoch 20/20\n",
            "1875/1875 [==============================] - 24s 13ms/step - loss: 7.0338 - val_loss: 7.0911\n"
          ]
        }
      ]
    },
    {
      "cell_type": "code",
      "source": [
        "# summarize history for loss\n",
        "plt.plot(history.history['loss'])\n",
        "plt.plot(history.history['val_loss'])"
      ],
      "metadata": {
        "colab": {
          "base_uri": "https://localhost:8080/",
          "height": 440
        },
        "id": "zCBmanCgrDjG",
        "outputId": "f4f115bc-97de-4416-f2d4-8458c76d8907"
      },
      "execution_count": null,
      "outputs": [
        {
          "output_type": "execute_result",
          "data": {
            "text/plain": [
              "[<matplotlib.lines.Line2D at 0x7b3ca80e8130>]"
            ]
          },
          "metadata": {},
          "execution_count": 41
        },
        {
          "output_type": "display_data",
          "data": {
            "text/plain": [
              "<Figure size 640x480 with 1 Axes>"
            ],
            "image/png": "[encoded data removed]"
          },
          "metadata": {}
        }
      ]
    },
    {
      "cell_type": "markdown",
      "source": [
        "**Test Sample**"
      ],
      "metadata": {
        "id": "Bpd3Grz9pfUt"
      }
    },
    {
      "cell_type": "code",
      "source": [
        "index = 20\n",
        "\n",
        "y_pred = vae.predict(X_test)\n",
        "\n",
        "plt.figure(1)\n",
        "plt.subplot(221)\n",
        "plt.imshow(X_test[index].reshape(28,28))\n",
        "\n",
        "plt.subplot(222)\n",
        "plt.title('VAE')\n",
        "plt.imshow(y_pred[index].reshape(28,28))\n",
        "\n",
        "plt.subplot(223)\n",
        "plt.imshow(X_test[index*5].reshape(28,28))\n",
        "\n",
        "plt.subplot(224)\n",
        "plt.imshow(y_pred[index*5].reshape(28,28))\n",
        "plt.show()"
      ],
      "metadata": {
        "colab": {
          "base_uri": "https://localhost:8080/",
          "height": 469
        },
        "id": "l2gqC9UgpaYQ",
        "outputId": "6a752493-d57f-470d-e14b-5324e0fb4407"
      },
      "execution_count": null,
      "outputs": [
        {
          "output_type": "stream",
          "name": "stdout",
          "text": [
            "313/313 [==============================] - 1s 4ms/step\n"
          ]
        },
        {
          "output_type": "display_data",
          "data": {
            "text/plain": [
              "<Figure size 640x480 with 4 Axes>"
            ],
            "image/png": "[encoded data removed]"
          },
          "metadata": {}
        }
      ]
    }
  ]
}