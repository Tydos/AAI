{
 "cells": [
  {
   "cell_type": "code",
   "execution_count": 35,
   "metadata": {},
   "outputs": [
    {
     "name": "stdout",
     "output_type": "stream",
     "text": [
      "Image captured and saved successfully.\n"
     ]
    }
   ],
   "source": [
    "import cv2\n",
    "\n",
    "# Start webcam\n",
    "cap = cv2.VideoCapture(0)\n",
    "\n",
    "# Check if the webcam is opened correctly\n",
    "if not cap.isOpened():\n",
    "    print(\"Error: Could not open webcam\")\n",
    "    exit()\n",
    "\n",
    "# # Set the resolution to 48x48\n",
    "# cap.set(cv2.CAP_PROP_FRAME_WIDTH, 48)\n",
    "# cap.set(cv2.CAP_PROP_FRAME_HEIGHT, 48)\n",
    "\n",
    "# Function to capture and save image\n",
    "def capture_image():\n",
    "    ret, frame = cap.read()\n",
    "    if ret:\n",
    "        # Convert frame to grayscale\n",
    "        gray_frame = cv2.cvtColor(frame, cv2.COLOR_BGR2GRAY)\n",
    "        \n",
    "        # Save grayscale image\n",
    "        cv2.imwrite(\"captured_image.jpg\", gray_frame)\n",
    "        print(\"Image captured and saved successfully.\")\n",
    "    else:\n",
    "        print(\"Error: Failed to capture image.\")\n",
    "\n",
    "# Capture and save image when 's' is pressed\n",
    "while True:\n",
    "    ret, frame = cap.read()\n",
    "    if not ret:\n",
    "        print\n",
    "        (\"Error: Failed to capture frame\")\n",
    "        break\n",
    "\n",
    "    cv2.imshow('Webcam', frame)\n",
    "    key = cv2.waitKey(1)\n",
    "    \n",
    "    if key == ord('s'):  # Press 's' to capture and save the image\n",
    "        capture_image()\n",
    "        break\n",
    "    elif key == 27:  # Press 'Esc' to exit\n",
    "        break\n",
    "\n",
    "# Release webcam and close windows\n",
    "cap.release()\n",
    "cv2.destroyAllWindows()\n"
   ]
  },
  {
   "cell_type": "code",
   "execution_count": null,
   "metadata": {},
   "outputs": [],
   "source": [
    "from IPython.display import display, Image\n",
    "\n",
    "# Path to the captured image\n",
    "image_path = \"captured_image.jpg\"\n",
    "\n",
    "# Display the image\n",
    "display(Image(filename=image_path))\n"
   ]
  },
  {
   "cell_type": "code",
   "execution_count": 37,
   "metadata": {},
   "outputs": [],
   "source": [
    "from tensorflow.keras.models import model_from_json\n",
    "\n",
    "# Load JSON model architecture\n",
    "with open('model.json', 'r') as json_file:\n",
    "    loaded_model_json = json_file.read()\n",
    "\n",
    "# Load model architecture from JSON\n",
    "loaded_model = model_from_json(loaded_model_json)\n",
    "\n",
    "# Load model weights\n",
    "loaded_model.load_weights('model_moblenet.h5')\n",
    "\n",
    "# Now you can use the loaded model for inference or further training\n"
   ]
  },
  {
   "cell_type": "code",
   "execution_count": 38,
   "metadata": {},
   "outputs": [
    {
     "name": "stdout",
     "output_type": "stream",
     "text": [
      "WARNING:tensorflow:6 out of the last 6 calls to <function Model.make_predict_function.<locals>.predict_function at 0x00000276E10BD4E0> triggered tf.function retracing. Tracing is expensive and the excessive number of tracings could be due to (1) creating @tf.function repeatedly in a loop, (2) passing tensors with different shapes, (3) passing Python objects instead of tensors. For (1), please define your @tf.function outside of the loop. For (2), @tf.function has reduce_retracing=True option that can avoid unnecessary retracing. For (3), please refer to https://www.tensorflow.org/guide/function#controlling_retracing and https://www.tensorflow.org/api_docs/python/tf/function for  more details.\n",
      "1/1 [==============================] - 1s 750ms/step\n",
      "Predicted class: 2\n"
     ]
    }
   ],
   "source": [
    "input_image = cv2.imread(\"captured_image.jpg\", cv2.IMREAD_COLOR)  # Read the image in color\n",
    "\n",
    "# Resize input image to match model input size\n",
    "input_image_resized = cv2.resize(input_image, (48, 48))\n",
    "\n",
    "# Normalize input image\n",
    "input_image_normalized = input_image_resized / 255.0  # Assuming your model expects inputs in the range [0, 1]\n",
    "\n",
    "# Reshape input image to match model input shape\n",
    "input_image_reshaped = np.expand_dims(input_image_normalized, axis=0)\n",
    "\n",
    "# Make predictions\n",
    "predictions = loaded_model.predict(input_image_reshaped)\n",
    "\n",
    "# Decode predictions\n",
    "# You might need to implement your own decoding logic based on your model's output\n",
    "# For example, if your model outputs class probabilities, you might want to use argmax\n",
    "predicted_class = np.argmax(predictions)\n",
    "\n",
    "# Print predicted class or whatever your decoding logic is\n",
    "print(\"Predicted class:\", predicted_class)"
   ]
  },
  {
   "cell_type": "code",
   "execution_count": 39,
   "metadata": {},
   "outputs": [
    {
     "name": "stdout",
     "output_type": "stream",
     "text": [
      "Neutral\n"
     ]
    }
   ],
   "source": [
    "if(predicted_class == 0):\n",
    "    print(\"Fear\")\n",
    "elif(predicted_class == 1):\n",
    "    print(\"Angry\")\n",
    "elif(predicted_class == 2):\n",
    "    print(\"Neutral\")\n",
    "elif(predicted_class == 3):\n",
    "    print(\"Happy\")\n",
    "\n",
    "\n"
   ]
  },
  {
   "cell_type": "code",
   "execution_count": 40,
   "metadata": {},
   "outputs": [
    {
     "data": {
      "text/plain": [
       "array([[0.12484495, 0.16283467, 0.451563  , 0.26075748]], dtype=float32)"
      ]
     },
     "execution_count": 40,
     "metadata": {},
     "output_type": "execute_result"
    }
   ],
   "source": [
    "predictions"
   ]
  },
  {
   "cell_type": "code",
   "execution_count": null,
   "metadata": {},
   "outputs": [],
   "source": []
  }
 ],
 "metadata": {
  "kernelspec": {
   "display_name": "Python 3",
   "language": "python",
   "name": "python3"
  },
  "language_info": {
   "codemirror_mode": {
    "name": "ipython",
    "version": 3
   },
   "file_extension": ".py",
   "mimetype": "text/x-python",
   "name": "python",
   "nbconvert_exporter": "python",
   "pygments_lexer": "ipython3",
   "version": "3.11.1"
  }
 },
 "nbformat": 4,
 "nbformat_minor": 2
}
