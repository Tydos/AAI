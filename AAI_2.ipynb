{
  "nbformat": 4,
  "nbformat_minor": 0,
  "metadata": {
    "colab": {
      "provenance": []
    },
    "kernelspec": {
      "name": "python3",
      "display_name": "Python 3"
    },
    "language_info": {
      "name": "python"
    }
  },
  "cells": [
    {
      "cell_type": "markdown",
      "source": [
        "# Name: Prasad Jawale\n",
        "Class: D16AD         Roll: 20\n",
        "\n",
        "AAI Lab 2 - Bayesian Network"
      ],
      "metadata": {
        "id": "wOpxBc84hAj8"
      }
    },
    {
      "cell_type": "markdown",
      "source": [
        "# Creating Model"
      ],
      "metadata": {
        "id": "1T7bDYj2jBzi"
      }
    },
    {
      "cell_type": "markdown",
      "source": [
        "![image.png](data:image/png;base64,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)"
      ],
      "metadata": {
        "id": "yaJ8jFSUnGGP"
      }
    },
    {
      "cell_type": "code",
      "execution_count": null,
      "metadata": {
        "id": "jiPLqPJ2gDPU"
      },
      "outputs": [],
      "source": [
        "from pgmpy.models import BayesianNetwork\n",
        "\n",
        "cancer_model = BayesianNetwork(\n",
        "    [\n",
        "        (\"Pollution\", \"Cancer\"),\n",
        "        (\"Smoker\", \"Cancer\"),\n",
        "        (\"Cancer\", \"Xray\"),\n",
        "        (\"Cancer\", \"Dyspnoea\"),\n",
        "    ]\n",
        ")"
      ]
    },
    {
      "cell_type": "code",
      "source": [
        "from pgmpy.factors.discrete import TabularCPD\n",
        "\n",
        "cpd_poll = TabularCPD(variable=\"Pollution\", variable_card=2, values=[[0.9], [0.1]])\n",
        "cpd_smoke = TabularCPD(variable=\"Smoker\", variable_card=2, values=[[0.3], [0.7]])\n",
        "cpd_cancer = TabularCPD(\n",
        "    variable=\"Cancer\",\n",
        "    variable_card=2,\n",
        "    values=[[0.03, 0.05, 0.001, 0.02], [0.97, 0.95, 0.999, 0.98]],\n",
        "    evidence=[\"Smoker\", \"Pollution\"],\n",
        "    evidence_card=[2, 2],\n",
        ")\n",
        "cpd_xray = TabularCPD(\n",
        "    variable=\"Xray\",\n",
        "    variable_card=2,\n",
        "    values=[[0.9, 0.2], [0.1, 0.8]],\n",
        "    evidence=[\"Cancer\"],\n",
        "    evidence_card=[2],\n",
        ")\n",
        "cpd_dysp = TabularCPD(\n",
        "    variable=\"Dyspnoea\",\n",
        "    variable_card=2,\n",
        "    values=[[0.65, 0.3], [0.35, 0.7]],\n",
        "    evidence=[\"Cancer\"],\n",
        "    evidence_card=[2],\n",
        ")"
      ],
      "metadata": {
        "id": "DieArCKKggzi"
      },
      "execution_count": null,
      "outputs": []
    },
    {
      "cell_type": "code",
      "source": [
        "# Associating the parameters with the model structure.\n",
        "cancer_model.add_cpds(cpd_poll, cpd_smoke, cpd_cancer, cpd_xray, cpd_dysp)\n",
        "cancer_model.check_model()"
      ],
      "metadata": {
        "colab": {
          "base_uri": "https://localhost:8080/"
        },
        "id": "piUFxODuh5h4",
        "outputId": "510b446f-2063-4813-efa9-f12062367692"
      },
      "execution_count": null,
      "outputs": [
        {
          "output_type": "execute_result",
          "data": {
            "text/plain": [
              "True"
            ]
          },
          "metadata": {},
          "execution_count": 6
        }
      ]
    },
    {
      "cell_type": "markdown",
      "source": [
        "Nodes of Bayesian Network"
      ],
      "metadata": {
        "id": "DV-K7Ry0ibhi"
      }
    },
    {
      "cell_type": "code",
      "source": [
        "cancer_model.nodes()"
      ],
      "metadata": {
        "colab": {
          "base_uri": "https://localhost:8080/"
        },
        "id": "1FrFByj1iQpx",
        "outputId": "7437d4b1-98b4-4e91-9c25-eb5ca3415502"
      },
      "execution_count": null,
      "outputs": [
        {
          "output_type": "execute_result",
          "data": {
            "text/plain": [
              "NodeView(('Pollution', 'Cancer', 'Smoker', 'Xray', 'Dyspnoea'))"
            ]
          },
          "metadata": {},
          "execution_count": 11
        }
      ]
    },
    {
      "cell_type": "markdown",
      "source": [
        "Edges of Bayesian Network"
      ],
      "metadata": {
        "id": "tqg_LshGif2f"
      }
    },
    {
      "cell_type": "code",
      "source": [
        "cancer_model.edges()"
      ],
      "metadata": {
        "colab": {
          "base_uri": "https://localhost:8080/"
        },
        "id": "-K3Q1Lf5iWkQ",
        "outputId": "b4528396-6dcf-4b40-b383-0d70583c980a"
      },
      "execution_count": null,
      "outputs": [
        {
          "output_type": "execute_result",
          "data": {
            "text/plain": [
              "OutEdgeView([('Pollution', 'Cancer'), ('Cancer', 'Xray'), ('Cancer', 'Dyspnoea'), ('Smoker', 'Cancer')])"
            ]
          },
          "metadata": {},
          "execution_count": 12
        }
      ]
    },
    {
      "cell_type": "code",
      "source": [
        "cancer_model.active_trail_nodes(\"Pollution\")"
      ],
      "metadata": {
        "colab": {
          "base_uri": "https://localhost:8080/"
        },
        "id": "3TgBQ5UUjSQc",
        "outputId": "9a31d2fc-173e-4c5d-8e4a-cd8cb76efa20"
      },
      "execution_count": null,
      "outputs": [
        {
          "output_type": "execute_result",
          "data": {
            "text/plain": [
              "{'Pollution': {'Cancer', 'Dyspnoea', 'Pollution', 'Xray'}}"
            ]
          },
          "metadata": {},
          "execution_count": 15
        }
      ]
    },
    {
      "cell_type": "code",
      "source": [
        "cancer_model.local_independencies(\"Xray\")"
      ],
      "metadata": {
        "colab": {
          "base_uri": "https://localhost:8080/"
        },
        "id": "J28U6U-MjT0b",
        "outputId": "4e9fc9ae-3ce6-4259-dde8-8ee50ec4f06c"
      },
      "execution_count": null,
      "outputs": [
        {
          "output_type": "execute_result",
          "data": {
            "text/plain": [
              "(Xray ⟂ Dyspnoea, Smoker, Pollution | Cancer)"
            ]
          },
          "metadata": {},
          "execution_count": 16
        }
      ]
    },
    {
      "cell_type": "code",
      "source": [
        "cancer_model.get_independencies()"
      ],
      "metadata": {
        "colab": {
          "base_uri": "https://localhost:8080/"
        },
        "id": "94nUd495kXqW",
        "outputId": "56ddaad3-0e9e-4331-d46f-eb03a1ad2d5d"
      },
      "execution_count": null,
      "outputs": [
        {
          "output_type": "execute_result",
          "data": {
            "text/plain": [
              "(Smoker ⟂ Pollution)\n",
              "(Smoker ⟂ Xray, Dyspnoea | Cancer)\n",
              "(Smoker ⟂ Xray | Dyspnoea, Cancer)\n",
              "(Smoker ⟂ Dyspnoea | Xray, Cancer)\n",
              "(Smoker ⟂ Xray, Dyspnoea | Cancer, Pollution)\n",
              "(Smoker ⟂ Xray | Pollution, Dyspnoea, Cancer)\n",
              "(Smoker ⟂ Dyspnoea | Xray, Cancer, Pollution)\n",
              "(Dyspnoea ⟂ Xray, Smoker, Pollution | Cancer)\n",
              "(Dyspnoea ⟂ Xray, Smoker | Cancer, Pollution)\n",
              "(Dyspnoea ⟂ Smoker, Pollution | Xray, Cancer)\n",
              "(Dyspnoea ⟂ Xray, Pollution | Smoker, Cancer)\n",
              "(Dyspnoea ⟂ Smoker | Xray, Cancer, Pollution)\n",
              "(Dyspnoea ⟂ Xray | Cancer, Smoker, Pollution)\n",
              "(Dyspnoea ⟂ Pollution | Xray, Smoker, Cancer)\n",
              "(Xray ⟂ Dyspnoea, Smoker, Pollution | Cancer)\n",
              "(Xray ⟂ Smoker, Pollution | Dyspnoea, Cancer)\n",
              "(Xray ⟂ Dyspnoea, Smoker | Cancer, Pollution)\n",
              "(Xray ⟂ Dyspnoea, Pollution | Smoker, Cancer)\n",
              "(Xray ⟂ Smoker | Cancer, Dyspnoea, Pollution)\n",
              "(Xray ⟂ Pollution | Smoker, Dyspnoea, Cancer)\n",
              "(Xray ⟂ Dyspnoea | Cancer, Smoker, Pollution)\n",
              "(Pollution ⟂ Smoker)\n",
              "(Pollution ⟂ Xray, Dyspnoea | Cancer)\n",
              "(Pollution ⟂ Xray | Dyspnoea, Cancer)\n",
              "(Pollution ⟂ Dyspnoea | Xray, Cancer)\n",
              "(Pollution ⟂ Xray, Dyspnoea | Smoker, Cancer)\n",
              "(Pollution ⟂ Xray | Smoker, Dyspnoea, Cancer)\n",
              "(Pollution ⟂ Dyspnoea | Xray, Smoker, Cancer)"
            ]
          },
          "metadata": {},
          "execution_count": 17
        }
      ]
    },
    {
      "cell_type": "markdown",
      "source": [
        "#Model Testing"
      ],
      "metadata": {
        "id": "jaIX8cv8i8KQ"
      }
    },
    {
      "cell_type": "code",
      "source": [
        "from pgmpy.inference import VariableElimination\n",
        "inference = VariableElimination(cancer_model)"
      ],
      "metadata": {
        "id": "ZLW8WphslxBM"
      },
      "execution_count": null,
      "outputs": []
    },
    {
      "cell_type": "markdown",
      "source": [
        "1. Probablility of being a smoker given pollution"
      ],
      "metadata": {
        "id": "V9izffF0ijBM"
      }
    },
    {
      "cell_type": "code",
      "source": [
        "query = inference.query(variables=[\"Smoker\"], evidence={\"Pollution\": 1})\n",
        "print(query)"
      ],
      "metadata": {
        "colab": {
          "base_uri": "https://localhost:8080/"
        },
        "id": "el6QEAiXiaVm",
        "outputId": "ea18f0ff-517d-4487-93d5-96963b143095"
      },
      "execution_count": null,
      "outputs": [
        {
          "output_type": "stream",
          "name": "stdout",
          "text": [
            "+-----------+---------------+\n",
            "| Smoker    |   phi(Smoker) |\n",
            "+===========+===============+\n",
            "| Smoker(0) |        0.3000 |\n",
            "+-----------+---------------+\n",
            "| Smoker(1) |        0.7000 |\n",
            "+-----------+---------------+\n"
          ]
        }
      ]
    },
    {
      "cell_type": "markdown",
      "source": [
        "2. Probability of having cancer given polllution and smoking"
      ],
      "metadata": {
        "id": "3lgNtfhOi141"
      }
    },
    {
      "cell_type": "code",
      "source": [
        "query = inference.query(variables=[\"Cancer\"], evidence={\"Pollution\": 1, \"Smoker\": 1})\n",
        "print(query)"
      ],
      "metadata": {
        "colab": {
          "base_uri": "https://localhost:8080/"
        },
        "id": "lRSihPulixLC",
        "outputId": "6887783f-7e78-43a6-d083-f44abd95ba8a"
      },
      "execution_count": null,
      "outputs": [
        {
          "output_type": "stream",
          "name": "stdout",
          "text": [
            "+-----------+---------------+\n",
            "| Cancer    |   phi(Cancer) |\n",
            "+===========+===============+\n",
            "| Cancer(0) |        0.0200 |\n",
            "+-----------+---------------+\n",
            "| Cancer(1) |        0.9800 |\n",
            "+-----------+---------------+\n"
          ]
        }
      ]
    },
    {
      "cell_type": "markdown",
      "source": [
        "3. Probability of Xray given cancer"
      ],
      "metadata": {
        "id": "rwYzOEV9mFtt"
      }
    },
    {
      "cell_type": "code",
      "source": [
        "query = inference.query(variables=[\"Xray\"], evidence={\"Cancer\": 1})\n",
        "print(query)"
      ],
      "metadata": {
        "colab": {
          "base_uri": "https://localhost:8080/"
        },
        "id": "O-ehVBAVmMT-",
        "outputId": "e82849cb-4d38-4b95-cd91-11cb2090383d"
      },
      "execution_count": null,
      "outputs": [
        {
          "output_type": "stream",
          "name": "stdout",
          "text": [
            "+---------+-------------+\n",
            "| Xray    |   phi(Xray) |\n",
            "+=========+=============+\n",
            "| Xray(0) |      0.2000 |\n",
            "+---------+-------------+\n",
            "| Xray(1) |      0.8000 |\n",
            "+---------+-------------+\n"
          ]
        }
      ]
    }
  ]
}